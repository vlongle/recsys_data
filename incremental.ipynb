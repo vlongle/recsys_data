{
 "cells": [
  {
   "cell_type": "code",
   "execution_count": 23,
   "metadata": {},
   "outputs": [],
   "source": [
    "import torchvision\n",
    "import numpy as np\n",
    "import matplotlib.pyplot as plt\n",
    "import torch\n",
    "from copy import deepcopy\n",
    "from lightning_lite.utilities.seed import seed_everything\n",
    "plt.style.use(\"fivethirtyeight\")"
   ]
  },
  {
   "cell_type": "code",
   "execution_count": 24,
   "metadata": {},
   "outputs": [],
   "source": [
    "mdataset_train = torchvision.datasets.MNIST(\n",
    "    root='./data', train=True, download=True, transform=torchvision.transforms.ToTensor())\n",
    "fdataset_train = torchvision.datasets.FashionMNIST(\n",
    "    root='./data', train=True, download=True, transform=torchvision.transforms.ToTensor(),\n",
    "    target_transform=lambda x: x + 10)\n",
    "\n",
    "\n",
    "mdataset_test = torchvision.datasets.MNIST(\n",
    "    root='./data', train=False, download=True, transform=torchvision.transforms.ToTensor())\n",
    "fdataset_test = torchvision.datasets.FashionMNIST(\n",
    "    root='./data', train=False, download=True, transform=torchvision.transforms.ToTensor(),\n",
    "    target_transform=lambda x: x + 10)"
   ]
  },
  {
   "cell_type": "code",
   "execution_count": 25,
   "metadata": {},
   "outputs": [
    {
     "name": "stdout",
     "output_type": "stream",
     "text": [
      "60000 60000 10000 10000\n"
     ]
    }
   ],
   "source": [
    "print(len(mdataset_train), len(fdataset_train), len(mdataset_test), len(fdataset_test))"
   ]
  },
  {
   "cell_type": "code",
   "execution_count": 26,
   "metadata": {},
   "outputs": [],
   "source": [
    "dataset_train = torch.utils.data.ConcatDataset([mdataset_train, fdataset_train])\n",
    "dataset_stream_idx = torch.randperm(len(dataset_train))"
   ]
  },
  {
   "cell_type": "code",
   "execution_count": 27,
   "metadata": {},
   "outputs": [],
   "source": [
    "import torch.nn as nn\n",
    "\n",
    "class MNISTNet(nn.Module):\n",
    "    def __init__(self, X_test, y_test) -> None:\n",
    "        super().__init__()\n",
    "        self.num_classes = 20\n",
    "        self.embedding = nn.Sequential(\n",
    "            nn.Conv2d(1, 16, 3, padding=1),\n",
    "            nn.ReLU(),\n",
    "            nn.MaxPool2d(2, 2),\n",
    "            nn.Conv2d(16, 4, 3, padding=1),\n",
    "            nn.ReLU(),\n",
    "            nn.MaxPool2d(2, 2),\n",
    "        )\n",
    "        self.model = nn.Sequential(\n",
    "            nn.Linear(4 * 7 * 7, 64),\n",
    "            nn.ReLU(),\n",
    "            nn.Linear(64, self.num_classes),\n",
    "        )\n",
    "\n",
    "        self.criteria = nn.CrossEntropyLoss()\n",
    "        self.optimizer = torch.optim.Adam(self.parameters(), lr=1e-3)\n",
    "        print(\"Num parameters:\", sum(p.numel() for p in self.parameters()))\n",
    "        self.X_test = X_test.to('cuda')\n",
    "        self.y_test = y_test.to('cuda')\n",
    "        self.to('cuda')\n",
    "    \n",
    "    def forward(self, x):\n",
    "        x = x.to('cuda')\n",
    "        x = self.embedding(x)\n",
    "        x = x.view(-1, 4 * 7 * 7)\n",
    "        x = self.model(x)\n",
    "        return x\n",
    "    \n",
    "    def train_step(self, x, y):\n",
    "        y = y.to('cuda')\n",
    "        self.train()\n",
    "        self.optimizer.zero_grad()\n",
    "        y_hat = self(x)\n",
    "        loss = self.criteria(y_hat, y)\n",
    "        loss.backward()\n",
    "        self.optimizer.step()\n",
    "        return loss.item()\n",
    "\n",
    "    def test_step(self):\n",
    "        self.eval()\n",
    "        with torch.no_grad():\n",
    "            y_hat = self(self.X_test)\n",
    "            loss = self.criteria(y_hat, self.y_test)\n",
    "            return loss.item()\n",
    "    \n",
    "    \n",
    "    def evaluate_usefulness(self, X, ys):\n",
    "        # for each (x, y) in X, ys, evaluate the usefulness of the point\n",
    "        # slow and noisy\n",
    "        batch_size = X.shape[0]\n",
    "        losses = []\n",
    "        for i in range(batch_size):\n",
    "            x = X[i]\n",
    "            y = ys[i]\n",
    "            net_copy = deepcopy(self)\n",
    "            x = x.unsqueeze(0)\n",
    "            y = y.unsqueeze(0)\n",
    "            net_copy.train_step(x, y)\n",
    "            losses.append(net_copy.test_step())\n",
    "        return torch.tensor(losses)\n",
    "\n",
    "    def evaluate_usefulnessv1(self, X, ys):\n",
    "        # leave one out: less noisy, very slow.\n",
    "        batch_size = X.shape[0]\n",
    "        net_copy = deepcopy(self)\n",
    "        net_copy.train_step(X, ys)\n",
    "        fitted_all = net_copy.test_step()\n",
    "        improvs = []\n",
    "        for i in range(batch_size):\n",
    "            net_copy_leave_one = deepcopy(self)\n",
    "            # leave data point i out and fit the model\n",
    "            # on the rest of the data\n",
    "            X_leave_one = torch.cat([X[:i], X[i+1:]])\n",
    "            ys_leave_one = torch.cat([ys[:i], ys[i+1:]])\n",
    "            net_copy_leave_one.train_step(X_leave_one, ys_leave_one)\n",
    "            fitted_leave_one = net_copy_leave_one.test_step()\n",
    "            improvs.append(fitted_leave_one - fitted_all)\n",
    "        return torch.tensor(improvs)\n",
    "    \n",
    "    def evaluate_usefulnessv2(self, batch_x, batch_y):\n",
    "        batch_z = batch_y.clone()\n",
    "        batch_z.apply_(lambda x: x // 10)\n",
    "        before_loss = self.test_step()\n",
    "\n",
    "        net_copy0 = deepcopy(self)\n",
    "        batch_x0 = batch_x[batch_z == 0]\n",
    "        batch_y0 = batch_y[batch_z == 0]\n",
    "        net_copy0.train_step(batch_x0, batch_y0)\n",
    "        test_loss0 = net_copy0.test_step()\n",
    "\n",
    "        net_copy1 = deepcopy(self)\n",
    "        batch_x1 = batch_x[batch_z == 1]\n",
    "        batch_y1 = batch_y[batch_z == 1]\n",
    "        net_copy1.train_step(batch_x1, batch_y1)\n",
    "        test_loss1 = net_copy1.test_step()\n",
    "\n",
    "        return before_loss - test_loss0, before_loss - test_loss1\n",
    "\n"
   ]
  },
  {
   "cell_type": "code",
   "execution_count": 28,
   "metadata": {},
   "outputs": [
    {
     "name": "stdout",
     "output_type": "stream",
     "text": [
      "torch.Size([10000, 1, 28, 28]) torch.Size([10000])\n"
     ]
    }
   ],
   "source": [
    "# test on MNIST\n",
    "X_test = torch.stack([x for x, _ in mdataset_test])\n",
    "y_test = torch.tensor([y for _, y in mdataset_test])\n",
    "print(X_test.shape, y_test.shape)"
   ]
  },
  {
   "cell_type": "markdown",
   "metadata": {},
   "source": [
    "See if the test improvement metric makes sense!"
   ]
  },
  {
   "cell_type": "code",
   "execution_count": 30,
   "metadata": {},
   "outputs": [
    {
     "name": "stderr",
     "output_type": "stream",
     "text": [
      "Global seed set to 0\n"
     ]
    },
    {
     "name": "stdout",
     "output_type": "stream",
     "text": [
      "Num parameters: 14648\n",
      "Before training test loss: 2.990\n",
      "tensor([1, 1, 1, 1, 0, 1, 1, 0, 1, 0, 1, 1, 0, 0, 0, 0, 0, 0, 0, 0, 1, 1, 0, 1,\n",
      "        1, 0, 0, 1, 0, 1, 0, 0, 1, 0, 0, 0, 1, 1, 0, 1, 0, 1, 0, 0, 1, 1, 0, 0,\n",
      "        1, 1, 0, 1, 1, 1, 1, 0, 1, 1, 0, 0, 1, 0, 1, 1])\n",
      "tensor([-2.0647e-04,  1.3828e-05, -1.3280e-04, -5.2929e-05,  5.6982e-05,\n",
      "        -7.3910e-05,  6.7711e-05,  5.2691e-05,  7.3910e-06,  4.2939e-04,\n",
      "        -2.7990e-04,  7.5817e-05,  6.9141e-06,  9.5367e-07,  4.0674e-04,\n",
      "         1.7524e-04,  2.3103e-04,  4.3511e-04,  2.8610e-04,  1.7595e-04,\n",
      "         3.2425e-05,  4.5061e-05,  2.6965e-04, -5.5313e-05, -1.4615e-04,\n",
      "         3.8362e-04,  2.5892e-04, -6.1750e-05,  2.6083e-04, -9.0599e-06,\n",
      "         1.7357e-04,  1.8787e-04,  8.3208e-05,  2.7227e-04,  2.0051e-04,\n",
      "         5.3406e-05,  3.4809e-05, -4.0293e-05,  3.5787e-04, -1.3852e-04,\n",
      "         5.8413e-05, -6.8903e-05, -1.9550e-05,  3.3450e-04,  6.1274e-05,\n",
      "        -2.6846e-04,  1.4567e-04,  8.9407e-05, -3.1471e-05, -1.5807e-04,\n",
      "         1.3614e-04, -5.1498e-05, -2.8968e-04, -1.9407e-04, -1.0705e-04,\n",
      "         2.3842e-04,  3.5048e-05,  1.1921e-05,  1.5974e-04,  2.4581e-04,\n",
      "        -1.9479e-04,  7.1049e-05, -2.5058e-04, -1.6117e-04])\n",
      "Step 0/1: train loss 2.991, test loss 2.988 test_improv 0.002\n"
     ]
    }
   ],
   "source": [
    "seed_everything(0)\n",
    "net = MNISTNet(X_test, y_test)\n",
    "\n",
    "batch_size = 64\n",
    "max_steps = len(dataset_train) // batch_size\n",
    "max_steps = 1\n",
    "log_interval = 1\n",
    "\n",
    "train_losses = []\n",
    "test_losses = [net.test_step()]\n",
    "test_improvs = []\n",
    "batch_improvs_task0 = []\n",
    "batch_improvs_task1 = []\n",
    "\n",
    "print(f\"Before training test loss: {test_losses[0]:.3f}\")\n",
    "for env_step in range(max_steps):\n",
    "    batch_idx = dataset_stream_idx[env_step * batch_size:(env_step + 1) * batch_size]\n",
    "    batch = [dataset_train[i] for i in batch_idx]\n",
    "    batch_x = torch.stack([x for x, _ in batch])\n",
    "    batch_y = torch.tensor([y for _ , y in batch])\n",
    "\n",
    "    batch_z = batch_y.clone()\n",
    "    batch_z.apply_(lambda x: x // 10)\n",
    "    print(batch_z)\n",
    "    # batch_x = batch_x[batch_z == 1]\n",
    "    # batch_y = batch_y[batch_z == 1]\n",
    "    batch_losses = net.evaluate_usefulnessv1(batch_x, batch_y)\n",
    "    print(batch_losses)\n",
    "    # test_loss0, test_loss1 = net.evaluate_usefulnessv1(batch_x, batch_y)\n",
    "    # print(test_loss0, test_loss1)\n",
    "    # batch_improvs_task0.append(test_loss0)\n",
    "    # batch_improvs_task1.append(test_loss1)\n",
    "\n",
    "    # print(\"batch_improvs:\")\n",
    "    # print(\"\\t\", batch_improvs)\n",
    "    # print(\"batch_improvs task 0\")\n",
    "    # print(\"\\t\", batch_improvs[batch_z == 0], batch_improvs[batch_z == 0].mean())\n",
    "    # print(\"batch_improvs task 1\")\n",
    "    # print(\"\\t\", batch_improvs[batch_z == 1], batch_improvs[batch_z == 1].mean())\n",
    "    # batch_improvs_task0.append(batch_improvs[batch_z == 0].mean())\n",
    "    # batch_improvs_task1.append(batch_improvs[batch_z == 1].mean())\n",
    "\n",
    "    # improvs = 1.0 - (improvs / improvs.max())\n",
    "    # print(batch_losses)\n",
    "    # print(\"avg 0 loss:\", batch_losses[batch_z == 0].mean())\n",
    "    # print(\"avg 1 loss:\", batch_losses[batch_z == 1].mean())\n",
    "    # print(\"diff loss:\", batch_losses[batch_z == 1].mean() - batch_losses[batch_z == 0].mean())\n",
    "\n",
    "    train_loss = net.train_step(batch_x, batch_y)\n",
    "    test_loss = net.test_step()\n",
    "    train_losses.append(train_loss)\n",
    "    test_losses.append(test_loss)\n",
    "    test_improv = test_losses[-2] - test_losses[-1]\n",
    "    test_improvs.append(test_improv)\n",
    "    if env_step % log_interval == 0:\n",
    "        print(f\"Step {env_step}/{max_steps}: train loss {train_loss:.3f}, test loss {test_loss:.3f} test_improv {test_improv:.3f}\")"
   ]
  },
  {
   "cell_type": "code",
   "execution_count": 18,
   "metadata": {},
   "outputs": [
    {
     "data": {
      "image/png": "[encoded data removed]",
      "text/plain": [
       "<Figure size 640x480 with 1 Axes>"
      ]
     },
     "metadata": {},
     "output_type": "display_data"
    }
   ],
   "source": [
    "batch_improvs_task0 = torch.tensor(batch_improvs_task0)\n",
    "batch_improvs_task1 = torch.tensor(batch_improvs_task1)\n",
    "# plt.plot(batch_improvs_task0, label=\"task 0\")\n",
    "# plt.plot(batch_improvs_task1, label=\"task 1\")\n",
    "plt.plot(batch_improvs_task0 - batch_improvs_task1, label=\"diff\")\n",
    "plt.legend();"
   ]
  },
  {
   "cell_type": "code",
   "execution_count": 22,
   "metadata": {},
   "outputs": [],
   "source": [
    "diff = batch_improvs_task0 - batch_improvs_task1"
   ]
  },
  {
   "cell_type": "code",
   "execution_count": null,
   "metadata": {},
   "outputs": [],
   "source": [
    "np.mean(test_improvs)"
   ]
  },
  {
   "cell_type": "code",
   "execution_count": null,
   "metadata": {},
   "outputs": [],
   "source": [
    "# plt.plot(train_losses, label=\"train\")\n",
    "# plt.plot(test_losses, label=\"test\")\n",
    "plt.plot(test_improvs, label=\"test_improv\")\n",
    "plt.legend();"
   ]
  },
  {
   "cell_type": "code",
   "execution_count": null,
   "metadata": {},
   "outputs": [],
   "source": []
  }
 ],
 "metadata": {
  "kernelspec": {
   "display_name": "Python 3.9.15 ('data-sharing')",
   "language": "python",
   "name": "python3"
  },
  "language_info": {
   "codemirror_mode": {
    "name": "ipython",
    "version": 3
   },
   "file_extension": ".py",
   "mimetype": "text/x-python",
   "name": "python",
   "nbconvert_exporter": "python",
   "pygments_lexer": "ipython3",
   "version": "3.9.15"
  },
  "orig_nbformat": 4,
  "vscode": {
   "interpreter": {
    "hash": "1ce37e01e4e25dad4acdf5a835a9fd4c67494d5c7616f20984ba493f320ae940"
   }
  }
 },
 "nbformat": 4,
 "nbformat_minor": 2
}
