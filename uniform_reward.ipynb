{
 "cells": [
  {
   "cell_type": "code",
   "execution_count": 1,
   "metadata": {},
   "outputs": [],
   "source": [
    "from env import ImgRouterEvalEnv\n",
    "from lightning_lite.utilities.seed import seed_everything\n",
    "from bandit_algo import BanditAlgorithm\n",
    "from preference_estimator import (\n",
    "    EmpiricalEstimator,\n",
    "    NeuralEstimator,\n",
    "    RecurrentNeuralEstimator,\n",
    "    RecurrentNeuralEstimatorV0,\n",
    ")\n",
    "from exploration_strategy import (\n",
    "    PerArmExploration,\n",
    "    UniformEpsilonExploration,\n",
    ")\n",
    "import numpy as np"
   ]
  },
  {
   "cell_type": "code",
   "execution_count": 2,
   "metadata": {},
   "outputs": [],
   "source": [
    "num_candidates = 64\n",
    "cfg = {\n",
    "    \"num_candidates\": num_candidates,\n",
    "}\n",
    "env = ImgRouterEvalEnv(cfg)"
   ]
  },
  {
   "cell_type": "code",
   "execution_count": 3,
   "metadata": {},
   "outputs": [
    {
     "name": "stderr",
     "output_type": "stream",
     "text": [
      "Global seed set to 0\n"
     ]
    },
    {
     "name": "stdout",
     "output_type": "stream",
     "text": [
      "MNIST num parameters: 14648\n"
     ]
    },
    {
     "data": {
      "text/plain": [
       "array([[1, 9],\n",
       "       [1, 3],\n",
       "       [1, 9],\n",
       "       [1, 5],\n",
       "       [0, 7],\n",
       "       [1, 6],\n",
       "       [1, 4],\n",
       "       [0, 8],\n",
       "       [1, 4],\n",
       "       [0, 4],\n",
       "       [1, 1],\n",
       "       [1, 0],\n",
       "       [0, 7],\n",
       "       [0, 7],\n",
       "       [0, 4],\n",
       "       [0, 6],\n",
       "       [0, 3],\n",
       "       [0, 4],\n",
       "       [0, 2],\n",
       "       [0, 5],\n",
       "       [1, 3],\n",
       "       [1, 3],\n",
       "       [0, 3],\n",
       "       [1, 4],\n",
       "       [1, 5],\n",
       "       [0, 1],\n",
       "       [0, 1],\n",
       "       [1, 4],\n",
       "       [0, 2],\n",
       "       [1, 8],\n",
       "       [0, 9],\n",
       "       [0, 3],\n",
       "       [1, 2],\n",
       "       [0, 1],\n",
       "       [0, 0],\n",
       "       [0, 7],\n",
       "       [1, 0],\n",
       "       [1, 4],\n",
       "       [0, 2],\n",
       "       [1, 6],\n",
       "       [0, 7],\n",
       "       [1, 3],\n",
       "       [0, 7],\n",
       "       [0, 6],\n",
       "       [1, 4],\n",
       "       [1, 5],\n",
       "       [0, 8],\n",
       "       [0, 7],\n",
       "       [1, 4],\n",
       "       [1, 1],\n",
       "       [0, 0],\n",
       "       [1, 4],\n",
       "       [1, 5],\n",
       "       [1, 7],\n",
       "       [1, 9],\n",
       "       [0, 3],\n",
       "       [1, 3],\n",
       "       [1, 8],\n",
       "       [0, 7],\n",
       "       [0, 0],\n",
       "       [1, 5],\n",
       "       [0, 8],\n",
       "       [1, 5],\n",
       "       [1, 7]])"
      ]
     },
     "execution_count": 3,
     "metadata": {},
     "output_type": "execute_result"
    }
   ],
   "source": [
    "seed_everything(0)\n",
    "\n",
    "obs = env.reset()\n",
    "obs"
   ]
  },
  {
   "cell_type": "code",
   "execution_count": 4,
   "metadata": {},
   "outputs": [
    {
     "data": {
      "text/plain": [
       "tensor([19, 13, 19, 15,  7, 16, 14,  8, 14,  4, 11, 10,  7,  7,  4,  6,  3,  4,\n",
       "         2,  5, 13, 13,  3, 14, 15,  1,  1, 14,  2, 18,  9,  3, 12,  1,  0,  7,\n",
       "        10, 14,  2, 16,  7, 13,  7,  6, 14, 15,  8,  7, 14, 11,  0, 14, 15, 17,\n",
       "        19,  3, 13, 18,  7,  0, 15,  8, 15, 17])"
      ]
     },
     "execution_count": 4,
     "metadata": {},
     "output_type": "execute_result"
    }
   ],
   "source": [
    "batch_x, batch_z, batch_y = env._get_full_obs()\n",
    "batch_y"
   ]
  },
  {
   "cell_type": "code",
   "execution_count": 5,
   "metadata": {},
   "outputs": [],
   "source": [
    "num_tasks = 2\n",
    "num_cls = 10\n",
    "reduce_fator = 2\n",
    "num_slates = num_candidates // reduce_fator\n",
    "estimator = EmpiricalEstimator(num_tasks, num_cls)\n",
    "# estimator = RecurrentNeuralEstimatorV0(num_tasks, num_cls)\n",
    "# explore = PerArmExploration(num_tasks, num_cls, num_slates)\n",
    "explore = UniformEpsilonExploration(num_tasks, num_cls, num_slates)\n",
    "algo = BanditAlgorithm(\n",
    "        estimator,\n",
    "        explore,\n",
    "    )"
   ]
  },
  {
   "cell_type": "code",
   "execution_count": 6,
   "metadata": {},
   "outputs": [
    {
     "name": "stdout",
     "output_type": "stream",
     "text": [
      "MNIST num parameters: 14648\n",
      "Q_values [0. 0. 0. 0. 0. 0. 0. 0. 0. 0. 0. 0. 0. 0. 0. 0. 0. 0. 0. 0. 0. 0. 0. 0.\n",
      " 0. 0. 0. 0. 0. 0. 0. 0. 0. 0. 0. 0. 0. 0. 0. 0. 0. 0. 0. 0. 0. 0. 0. 0.\n",
      " 0. 0. 0. 0. 0. 0. 0. 0. 0. 0. 0. 0. 0. 0. 0. 0.]\n",
      "step 0 epsilon 2.0\n",
      "routed_batch_z (tensor([0, 1]), tensor([16, 16]))\n",
      "uniform: 0.003117799758911133 -0.0024323463439941406\n",
      "delta:\n",
      "[[ 0.          0.0093534   0.0093534   0.0062356   0.0031178   0.0031178\n",
      "   0.0031178   0.0062356   0.0062356   0.0031178 ]\n",
      " [-0.00486469 -0.00729704 -0.00243235  0.         -0.00972939 -0.00243235\n",
      "  -0.00243235 -0.00486469 -0.00243235 -0.00243235]]\n"
     ]
    },
    {
     "ename": "AttributeError",
     "evalue": "'ImgRouterEvalEnv' object has no attribute 'target_samples'",
     "output_type": "error",
     "traceback": [
      "\u001b[0;31m---------------------------------------------------------------------------\u001b[0m",
      "\u001b[0;31mAttributeError\u001b[0m                            Traceback (most recent call last)",
      "Cell \u001b[0;32mIn [6], line 13\u001b[0m\n\u001b[1;32m     11\u001b[0m obs \u001b[39m=\u001b[39m next_obs\n\u001b[1;32m     12\u001b[0m step_rewards\u001b[39m.\u001b[39mappend(reward)\n\u001b[0;32m---> 13\u001b[0m pred_loss \u001b[39m=\u001b[39m (algo\u001b[39m.\u001b[39mestimator\u001b[39m.\u001b[39mQ \u001b[39m-\u001b[39m env\u001b[39m.\u001b[39;49mQ) \u001b[39m*\u001b[39m\u001b[39m*\u001b[39m \u001b[39m2\u001b[39m\n\u001b[1;32m     14\u001b[0m pred_losses\u001b[39m.\u001b[39mappend(pred_loss)\n\u001b[1;32m     15\u001b[0m step \u001b[39m+\u001b[39m\u001b[39m=\u001b[39m \u001b[39m1\u001b[39m\n",
      "File \u001b[0;32m~/code/recsys_routing/env.py:80\u001b[0m, in \u001b[0;36mRouterEnv.Q\u001b[0;34m(self)\u001b[0m\n\u001b[1;32m     78\u001b[0m \u001b[39m@property\u001b[39m\n\u001b[1;32m     79\u001b[0m \u001b[39mdef\u001b[39;00m \u001b[39mQ\u001b[39m(\u001b[39mself\u001b[39m) \u001b[39m-\u001b[39m\u001b[39m>\u001b[39m np\u001b[39m.\u001b[39mndarray:\n\u001b[0;32m---> 80\u001b[0m     \u001b[39mreturn\u001b[39;00m (\u001b[39mself\u001b[39;49m\u001b[39m.\u001b[39;49mtarget_samples \u001b[39m-\u001b[39m \u001b[39mself\u001b[39m\u001b[39m.\u001b[39mcurrent_samples) \u001b[39m/\u001b[39m \u001b[39mself\u001b[39m\u001b[39m.\u001b[39mtarget_samples\n",
      "\u001b[0;31mAttributeError\u001b[0m: 'ImgRouterEvalEnv' object has no attribute 'target_samples'"
     ]
    }
   ],
   "source": [
    "obs = env.reset()\n",
    "# print(\"initial obs:\", obs)\n",
    "done = False\n",
    "step_rewards = []\n",
    "pred_losses = []\n",
    "step = 0\n",
    "while not done:\n",
    "    action = algo.predict(obs)\n",
    "    next_obs, reward, done, info = env.step(action)\n",
    "    algo.update_estimator(obs, action, info[\"rewards\"])\n",
    "    obs = next_obs\n",
    "    step_rewards.append(reward)\n",
    "    pred_loss = (algo.estimator.Q - env.Q) ** 2\n",
    "    pred_losses.append(pred_loss)\n",
    "    step += 1\n",
    "\n",
    "print(\"current samples after training:\")\n",
    "print(env.current_samples)\n",
    "# routed_data = env.current_samples - existing_samples\n",
    "routed_data = env.current_samples\n",
    "print(\"routed data:\")\n",
    "print(routed_data)\n",
    "print(np.mean(step_rewards))"
   ]
  },
  {
   "cell_type": "code",
   "execution_count": null,
   "metadata": {},
   "outputs": [],
   "source": []
  }
 ],
 "metadata": {
  "kernelspec": {
   "display_name": "Python 3.9.15 ('data-sharing')",
   "language": "python",
   "name": "python3"
  },
  "language_info": {
   "codemirror_mode": {
    "name": "ipython",
    "version": 3
   },
   "file_extension": ".py",
   "mimetype": "text/x-python",
   "name": "python",
   "nbconvert_exporter": "python",
   "pygments_lexer": "ipython3",
   "version": "3.9.15"
  },
  "orig_nbformat": 4,
  "vscode": {
   "interpreter": {
    "hash": "1ce37e01e4e25dad4acdf5a835a9fd4c67494d5c7616f20984ba493f320ae940"
   }
  }
 },
 "nbformat": 4,
 "nbformat_minor": 2
}
