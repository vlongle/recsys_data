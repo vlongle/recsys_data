{
 "cells": [
  {
   "cell_type": "code",
   "execution_count": 12,
   "metadata": {},
   "outputs": [],
   "source": [
    "from env import ImgRouterEvalEnv\n",
    "from lightning_lite.utilities.seed import seed_everything\n",
    "from bandit_algo import BanditAlgorithm\n",
    "from preference_estimator import (\n",
    "    EmpiricalEstimator,\n",
    "    NeuralEstimator,\n",
    "    RecurrentNeuralEstimator,\n",
    "    RecurrentNeuralEstimatorV0,\n",
    ")\n",
    "from exploration_strategy import (\n",
    "    PerArmExploration,\n",
    "    UniformEpsilonExploration,\n",
    ")\n",
    "import numpy as np"
   ]
  },
  {
   "cell_type": "code",
   "execution_count": 8,
   "metadata": {},
   "outputs": [],
   "source": [
    "num_candidates = 64\n",
    "cfg = {\n",
    "    \"num_candidates\": num_candidates,\n",
    "}\n",
    "env = ImgRouterEvalEnv(cfg)"
   ]
  },
  {
   "cell_type": "code",
   "execution_count": 3,
   "metadata": {},
   "outputs": [
    {
     "name": "stderr",
     "output_type": "stream",
     "text": [
      "Global seed set to 0\n"
     ]
    },
    {
     "name": "stdout",
     "output_type": "stream",
     "text": [
      "Num parameters: 14648\n"
     ]
    },
    {
     "data": {
      "text/plain": [
       "array([[ 1, 19],\n",
       "       [ 1, 13],\n",
       "       [ 1, 19],\n",
       "       [ 1, 15],\n",
       "       [ 0,  7],\n",
       "       [ 1, 16],\n",
       "       [ 1, 14],\n",
       "       [ 0,  8],\n",
       "       [ 1, 14],\n",
       "       [ 0,  4]])"
      ]
     },
     "execution_count": 3,
     "metadata": {},
     "output_type": "execute_result"
    }
   ],
   "source": [
    "seed_everything(0)\n",
    "\n",
    "obs = env.reset()\n",
    "obs"
   ]
  },
  {
   "cell_type": "code",
   "execution_count": 5,
   "metadata": {},
   "outputs": [
    {
     "data": {
      "text/plain": [
       "tensor([19, 13, 19, 15,  7, 16, 14,  8, 14,  4])"
      ]
     },
     "execution_count": 5,
     "metadata": {},
     "output_type": "execute_result"
    }
   ],
   "source": [
    "batch_x, batch_z, batch_y = env._get_full_obs()\n",
    "batch_y"
   ]
  },
  {
   "cell_type": "code",
   "execution_count": 11,
   "metadata": {},
   "outputs": [],
   "source": [
    "num_tasks = 2\n",
    "num_cls = 10\n",
    "reduce_fator = 2\n",
    "num_slates = num_candidates // reduce_fator\n",
    "estimator = EmpiricalEstimator(num_tasks, num_cls)\n",
    "# estimator = RecurrentNeuralEstimatorV0(num_tasks, num_cls)\n",
    "# explore = PerArmExploration(num_tasks, num_cls, num_slates)\n",
    "explore = UniformEpsilonExploration(num_tasks, num_cls, num_slates)\n",
    "algo = BanditAlgorithm(\n",
    "        estimator,\n",
    "        explore,\n",
    "    )"
   ]
  },
  {
   "cell_type": "code",
   "execution_count": 13,
   "metadata": {},
   "outputs": [
    {
     "name": "stdout",
     "output_type": "stream",
     "text": [
      "Num parameters: 14648\n"
     ]
    },
    {
     "ename": "IndexError",
     "evalue": "index 16 is out of bounds for axis 1 with size 10",
     "output_type": "error",
     "traceback": [
      "\u001b[0;31m---------------------------------------------------------------------------\u001b[0m",
      "\u001b[0;31mIndexError\u001b[0m                                Traceback (most recent call last)",
      "Cell \u001b[0;32mIn [13], line 8\u001b[0m\n\u001b[1;32m      6\u001b[0m step \u001b[39m=\u001b[39m \u001b[39m0\u001b[39m\n\u001b[1;32m      7\u001b[0m \u001b[39mwhile\u001b[39;00m \u001b[39mnot\u001b[39;00m done:\n\u001b[0;32m----> 8\u001b[0m     action \u001b[39m=\u001b[39m algo\u001b[39m.\u001b[39;49mpredict(obs)\n\u001b[1;32m      9\u001b[0m     next_obs, reward, done, info \u001b[39m=\u001b[39m env\u001b[39m.\u001b[39mstep(action)\n\u001b[1;32m     10\u001b[0m     algo\u001b[39m.\u001b[39mupdate_estimator(obs, action, info[\u001b[39m\"\u001b[39m\u001b[39mrewards\u001b[39m\u001b[39m\"\u001b[39m])\n",
      "File \u001b[0;32m~/code/recsys_routing/bandit_algo.py:22\u001b[0m, in \u001b[0;36mBanditAlgorithm.predict\u001b[0;34m(self, obs)\u001b[0m\n\u001b[1;32m     18\u001b[0m \u001b[39mdef\u001b[39;00m \u001b[39mpredict\u001b[39m(\u001b[39mself\u001b[39m, obs: np\u001b[39m.\u001b[39mndarray):\n\u001b[1;32m     19\u001b[0m     \u001b[39m\"\"\"\u001b[39;00m\n\u001b[1;32m     20\u001b[0m \u001b[39m    obs: (batch_size, num_features) array of observations.\u001b[39;00m\n\u001b[1;32m     21\u001b[0m \u001b[39m    \"\"\"\u001b[39;00m\n\u001b[0;32m---> 22\u001b[0m     Q_values \u001b[39m=\u001b[39m \u001b[39mself\u001b[39;49m\u001b[39m.\u001b[39;49mestimator\u001b[39m.\u001b[39;49mget_Q(obs, \u001b[39meval\u001b[39;49m\u001b[39m=\u001b[39;49m\u001b[39mTrue\u001b[39;49;00m)\n\u001b[1;32m     23\u001b[0m     action \u001b[39m=\u001b[39m \u001b[39mself\u001b[39m\u001b[39m.\u001b[39mexploration_strategy\u001b[39m.\u001b[39mget_action(obs, Q_values)\n\u001b[1;32m     24\u001b[0m     \u001b[39mself\u001b[39m\u001b[39m.\u001b[39mexploration_strategy\u001b[39m.\u001b[39mupdate(obs, action)\n",
      "File \u001b[0;32m~/code/recsys_routing/preference_estimator.py:59\u001b[0m, in \u001b[0;36mEmpiricalEstimator.get_Q\u001b[0;34m(self, observations, eval)\u001b[0m\n\u001b[1;32m     54\u001b[0m \u001b[39m\"\"\"\u001b[39;00m\n\u001b[1;32m     55\u001b[0m \u001b[39mArgs:\u001b[39;00m\n\u001b[1;32m     56\u001b[0m \u001b[39m    observations: (batch_size, 2) array of (task, class) tuples.\u001b[39;00m\n\u001b[1;32m     57\u001b[0m \u001b[39m\"\"\"\u001b[39;00m\n\u001b[1;32m     58\u001b[0m batch_tasks, batch_cls \u001b[39m=\u001b[39m observations[:, \u001b[39m0\u001b[39m], observations[:, \u001b[39m1\u001b[39m]\n\u001b[0;32m---> 59\u001b[0m \u001b[39mreturn\u001b[39;00m \u001b[39mself\u001b[39;49m\u001b[39m.\u001b[39;49mQ[batch_tasks, batch_cls]\n",
      "\u001b[0;31mIndexError\u001b[0m: index 16 is out of bounds for axis 1 with size 10"
     ]
    }
   ],
   "source": [
    "obs = env.reset()\n",
    "# print(\"initial obs:\", obs)\n",
    "done = False\n",
    "step_rewards = []\n",
    "pred_losses = []\n",
    "step = 0\n",
    "while not done:\n",
    "    action = algo.predict(obs)\n",
    "    next_obs, reward, done, info = env.step(action)\n",
    "    algo.update_estimator(obs, action, info[\"rewards\"])\n",
    "    obs = next_obs\n",
    "    step_rewards.append(reward)\n",
    "    pred_loss = (algo.estimator.Q - env.Q) ** 2\n",
    "    pred_losses.append(pred_loss)\n",
    "    step += 1\n",
    "\n",
    "print(\"current samples after training:\")\n",
    "print(env.current_samples)\n",
    "# routed_data = env.current_samples - existing_samples\n",
    "routed_data = env.current_samples\n",
    "print(\"routed data:\")\n",
    "print(routed_data)\n",
    "print(np.mean(step_rewards))"
   ]
  },
  {
   "cell_type": "code",
   "execution_count": null,
   "metadata": {},
   "outputs": [],
   "source": []
  }
 ],
 "metadata": {
  "kernelspec": {
   "display_name": "Python 3.9.15 ('data-sharing')",
   "language": "python",
   "name": "python3"
  },
  "language_info": {
   "codemirror_mode": {
    "name": "ipython",
    "version": 3
   },
   "file_extension": ".py",
   "mimetype": "text/x-python",
   "name": "python",
   "nbconvert_exporter": "python",
   "pygments_lexer": "ipython3",
   "version": "3.9.15"
  },
  "orig_nbformat": 4,
  "vscode": {
   "interpreter": {
    "hash": "1ce37e01e4e25dad4acdf5a835a9fd4c67494d5c7616f20984ba493f320ae940"
   }
  }
 },
 "nbformat": 4,
 "nbformat_minor": 2
}
